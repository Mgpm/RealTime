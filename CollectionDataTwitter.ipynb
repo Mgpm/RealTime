{
 "cells": [
  {
   "cell_type": "code",
   "execution_count": null,
   "metadata": {},
   "outputs": [],
   "source": [
    "import Config as config\n",
    "import tweepy\n",
    "import preprocessor as p\n",
    "import pykafka\n",
    "from googletrans import Translator\n",
    "p.set_options(p.OPT.URL, p.OPT.RESERVED, p.OPT.MENTION, p.OPT.EMOJI, p.OPT.HASHTAG,p.OPT.SMILEY)\n",
    "from vaderSentiment.vaderSentiment import SentimentIntensityAnalyzer\n",
    "import json"
   ]
  },
  {
   "cell_type": "code",
   "execution_count": null,
   "metadata": {},
   "outputs": [],
   "source": [
    "class CollectionDataTwitter(tweepy.StreamListener):\n",
    "    \n",
    "    def __init__(self,api,topic,limit=100):\n",
    "        self.topic = topic\n",
    "        self.limit = limit\n",
    "        self.counter = 0\n",
    "        self.client = pykafka.KafkaClient(config.bootstrap_servers)\n",
    "        self.producer = self.client.topics[bytes(config.kafka_topic_name, config.data_encoding)].get_producer()\n",
    "        super().__init__(api)\n",
    "    \n",
    "    def on_data(self,data):\n",
    "        \n",
    "        data = json.loads(data)\n",
    "        tweet_text = p.clean(data['text'])\n",
    "        \n",
    "        if self.topic.lower() not in tweet_text.lower():\n",
    "            return\n",
    "\n",
    "      \n",
    "        blob = Translator().translate(tweet_text)\n",
    "        \n",
    "        \n",
    "        if SentimentIntensityAnalyzer().polarity_scores(blob.text)['compound'] > 0 :\n",
    "            self.sentiment = \"\\t1\\n\"\n",
    "        \n",
    "        else: \n",
    "            self.sentiment = \"\\t0\\n\"\n",
    "        \n",
    "        #with open(\"data_file.txt\",mode=\"+a\") as data:\n",
    "            #data.write(f\"{tweet_text}{self.sentiment}\")\n",
    "        print(f\"{tweet_text}{self.sentiment}\")\n",
    "        self.producer.produce(bytes(f\"{tweet_text}{self.sentiment}\", config.data_encoding))\n",
    "        self.counter+=1\n",
    "        return self.counter != self.limit \n",
    "    \n",
    "    \n",
    "    def on_error(self, status):        \n",
    "        print(status)            \n",
    "        return False\n",
    "        \n",
    "    \n",
    "        \n",
    "        "
   ]
  },
  {
   "cell_type": "code",
   "execution_count": null,
   "metadata": {
    "scrolled": true
   },
   "outputs": [],
   "source": [
    "if __name__==\"__main__\":\n",
    "    \n",
    "    auth = tweepy.OAuthHandler(config.consumer_key, config.consumer_secret)\n",
    "    auth.set_access_token(config.access_token, config.access_secret)\n",
    "    api = tweepy.API(auth)\n",
    "    stream = tweepy.Stream(auth=api.auth,listener=CollectionDataTwitter(api,config.twitter_stream_filter))\n",
    "    stream.filter(track=[config.twitter_stream_filter],languages=['fr'],is_async=False)\n",
    "    \n",
    "             "
   ]
  }
 ],
 "metadata": {
  "kernelspec": {
   "display_name": "Python 3",
   "language": "python",
   "name": "python3"
  },
  "language_info": {
   "codemirror_mode": {
    "name": "ipython",
    "version": 3
   },
   "file_extension": ".py",
   "mimetype": "text/x-python",
   "name": "python",
   "nbconvert_exporter": "python",
   "pygments_lexer": "ipython3",
   "version": "3.6.5"
  }
 },
 "nbformat": 4,
 "nbformat_minor": 2
}

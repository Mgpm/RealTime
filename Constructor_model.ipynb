{
 "cells": [
  {
   "cell_type": "code",
   "execution_count": 144,
   "metadata": {},
   "outputs": [],
   "source": [
    "from pyspark.sql import SparkSession\n",
    "from pyspark.sql.types import *\n",
    "import pyspark.sql.functions as F\n",
    "\n",
    "import nltk,string\n",
    "from nltk import word_tokenize,PorterStemmer,LancasterStemmer,SnowballStemmer\n",
    "from nltk.corpus import stopwords\n",
    "from nltk.stem import WordNetLemmatizer\n",
    "import string\n",
    "import pyspark.ml.feature  as feat\n",
    "from pyspark.ml import Pipeline"
   ]
  },
  {
   "cell_type": "code",
   "execution_count": 145,
   "metadata": {},
   "outputs": [],
   "source": [
    "schema = StructType([\n",
    "StructField(\"sentences\", StringType(),True),\n",
    "StructField(\"sentiments\", StringType(),True)\n",
    "])\n",
    "\n",
    "spark = SparkSession.builder.master(\"local[*]\").appName(\"test\").getOrCreate()\n",
    "rdd = spark.sparkContext.textFile(\"data_file.txt\")"
   ]
  },
  {
   "cell_type": "code",
   "execution_count": 146,
   "metadata": {},
   "outputs": [],
   "source": [
    "rdd = rdd.map(lambda x:x.split(\"\\t\"))"
   ]
  },
  {
   "cell_type": "code",
   "execution_count": 147,
   "metadata": {},
   "outputs": [],
   "source": [
    "df = rdd.toDF(['sentences','sentiments'])"
   ]
  },
  {
   "cell_type": "code",
   "execution_count": 148,
   "metadata": {},
   "outputs": [
    {
     "data": {
      "text/html": [
       "<div>\n",
       "<style scoped>\n",
       "    .dataframe tbody tr th:only-of-type {\n",
       "        vertical-align: middle;\n",
       "    }\n",
       "\n",
       "    .dataframe tbody tr th {\n",
       "        vertical-align: top;\n",
       "    }\n",
       "\n",
       "    .dataframe thead th {\n",
       "        text-align: right;\n",
       "    }\n",
       "</style>\n",
       "<table border=\"1\" class=\"dataframe\">\n",
       "  <thead>\n",
       "    <tr style=\"text-align: right;\">\n",
       "      <th></th>\n",
       "      <th>sentences</th>\n",
       "      <th>sentiments</th>\n",
       "    </tr>\n",
       "  </thead>\n",
       "  <tbody>\n",
       "    <tr>\n",
       "      <th>0</th>\n",
       "      <td>: Jordan Bardella parle beaucoup de JP. Delevo...</td>\n",
       "      <td>1</td>\n",
       "    </tr>\n",
       "    <tr>\n",
       "      <th>1</th>\n",
       "      <td>: Pour Sandra Rigot, Maîtresse de conférences ...</td>\n",
       "      <td>1</td>\n",
       "    </tr>\n",
       "    <tr>\n",
       "      <th>2</th>\n",
       "      <td>: Réforme des retraites : la Macronie à son hy...</td>\n",
       "      <td>0</td>\n",
       "    </tr>\n",
       "    <tr>\n",
       "      <th>3</th>\n",
       "      <td>: DIRECT. Grève contre la réforme des retraite...</td>\n",
       "      <td>0</td>\n",
       "    </tr>\n",
       "    <tr>\n",
       "      <th>4</th>\n",
       "      <td>: Grève contre la réforme des retraites : les ...</td>\n",
       "      <td>0</td>\n",
       "    </tr>\n",
       "  </tbody>\n",
       "</table>\n",
       "</div>"
      ],
      "text/plain": [
       "                                           sentences sentiments\n",
       "0  : Jordan Bardella parle beaucoup de JP. Delevo...          1\n",
       "1  : Pour Sandra Rigot, Maîtresse de conférences ...          1\n",
       "2  : Réforme des retraites : la Macronie à son hy...          0\n",
       "3  : DIRECT. Grève contre la réforme des retraite...          0\n",
       "4  : Grève contre la réforme des retraites : les ...          0"
      ]
     },
     "execution_count": 148,
     "metadata": {},
     "output_type": "execute_result"
    }
   ],
   "source": [
    "df.toPandas().head(5)"
   ]
  },
  {
   "cell_type": "code",
   "execution_count": 149,
   "metadata": {},
   "outputs": [],
   "source": [
    "@F.udf(StringType())\n",
    "def process_text(text):    \n",
    "    tokenizer = nltk.data.load('tokenizers/punkt/french.pickle')\n",
    "    stemmer_snowball = SnowballStemmer('french')\n",
    "    stopword = set(stopwords.words('french'))\n",
    "    sentence = tokenizer.tokenize(text)\n",
    "    sentence = \" \".join([sent.lower() for sent in sentence])\n",
    "    clean_words = [word for word in nltk.word_tokenize(sentence) if word not in stopword.union(string.punctuation)]\n",
    "    clean_words = [stemmer_snowball.stem(lem) for lem in clean_words]\n",
    "    clean_words = \" \".join(clean_words)\n",
    "    return clean_words\n"
   ]
  },
  {
   "cell_type": "code",
   "execution_count": 150,
   "metadata": {},
   "outputs": [],
   "source": [
    "df = df.select(\"sentences\",\"sentiments\").withColumn(\"wordSentences\",process_text(\"sentences\"))\\\n",
    ".withColumn(\"label\", F.col(\"sentiments\").cast(DoubleType()))"
   ]
  },
  {
   "cell_type": "code",
   "execution_count": 151,
   "metadata": {},
   "outputs": [
    {
     "data": {
      "text/html": [
       "<div>\n",
       "<style scoped>\n",
       "    .dataframe tbody tr th:only-of-type {\n",
       "        vertical-align: middle;\n",
       "    }\n",
       "\n",
       "    .dataframe tbody tr th {\n",
       "        vertical-align: top;\n",
       "    }\n",
       "\n",
       "    .dataframe thead th {\n",
       "        text-align: right;\n",
       "    }\n",
       "</style>\n",
       "<table border=\"1\" class=\"dataframe\">\n",
       "  <thead>\n",
       "    <tr style=\"text-align: right;\">\n",
       "      <th></th>\n",
       "      <th>sentences</th>\n",
       "      <th>sentiments</th>\n",
       "      <th>wordSentences</th>\n",
       "      <th>label</th>\n",
       "    </tr>\n",
       "  </thead>\n",
       "  <tbody>\n",
       "    <tr>\n",
       "      <th>0</th>\n",
       "      <td>: Jordan Bardella parle beaucoup de JP. Delevo...</td>\n",
       "      <td>1</td>\n",
       "      <td>jordan bardel parl beaucoup jp delevoy ’ aim ’...</td>\n",
       "      <td>1.0</td>\n",
       "    </tr>\n",
       "    <tr>\n",
       "      <th>1</th>\n",
       "      <td>: Pour Sandra Rigot, Maîtresse de conférences ...</td>\n",
       "      <td>1</td>\n",
       "      <td>sandr rigot maîtress conférent économ réform r...</td>\n",
       "      <td>1.0</td>\n",
       "    </tr>\n",
       "    <tr>\n",
       "      <th>2</th>\n",
       "      <td>: Réforme des retraites : la Macronie à son hy...</td>\n",
       "      <td>0</td>\n",
       "      <td>réform retrait macron hymn écout don `` voix '' …</td>\n",
       "      <td>0.0</td>\n",
       "    </tr>\n",
       "    <tr>\n",
       "      <th>3</th>\n",
       "      <td>: DIRECT. Grève contre la réforme des retraite...</td>\n",
       "      <td>0</td>\n",
       "      <td>direct grev contr réform retrait `` chacun pre...</td>\n",
       "      <td>0.0</td>\n",
       "    </tr>\n",
       "    <tr>\n",
       "      <th>4</th>\n",
       "      <td>: Grève contre la réforme des retraites : les ...</td>\n",
       "      <td>0</td>\n",
       "      <td>grev contr réform retrait transport encor pert...</td>\n",
       "      <td>0.0</td>\n",
       "    </tr>\n",
       "  </tbody>\n",
       "</table>\n",
       "</div>"
      ],
      "text/plain": [
       "                                           sentences sentiments  \\\n",
       "0  : Jordan Bardella parle beaucoup de JP. Delevo...          1   \n",
       "1  : Pour Sandra Rigot, Maîtresse de conférences ...          1   \n",
       "2  : Réforme des retraites : la Macronie à son hy...          0   \n",
       "3  : DIRECT. Grève contre la réforme des retraite...          0   \n",
       "4  : Grève contre la réforme des retraites : les ...          0   \n",
       "\n",
       "                                       wordSentences  label  \n",
       "0  jordan bardel parl beaucoup jp delevoy ’ aim ’...    1.0  \n",
       "1  sandr rigot maîtress conférent économ réform r...    1.0  \n",
       "2  réform retrait macron hymn écout don `` voix '' …    0.0  \n",
       "3  direct grev contr réform retrait `` chacun pre...    0.0  \n",
       "4  grev contr réform retrait transport encor pert...    0.0  "
      ]
     },
     "execution_count": 151,
     "metadata": {},
     "output_type": "execute_result"
    }
   ],
   "source": [
    "df.toPandas().head(5)"
   ]
  },
  {
   "cell_type": "code",
   "execution_count": 152,
   "metadata": {},
   "outputs": [
    {
     "data": {
      "text/html": [
       "<div>\n",
       "<style scoped>\n",
       "    .dataframe tbody tr th:only-of-type {\n",
       "        vertical-align: middle;\n",
       "    }\n",
       "\n",
       "    .dataframe tbody tr th {\n",
       "        vertical-align: top;\n",
       "    }\n",
       "\n",
       "    .dataframe thead th {\n",
       "        text-align: right;\n",
       "    }\n",
       "</style>\n",
       "<table border=\"1\" class=\"dataframe\">\n",
       "  <thead>\n",
       "    <tr style=\"text-align: right;\">\n",
       "      <th></th>\n",
       "      <th>sentences</th>\n",
       "      <th>words</th>\n",
       "      <th>label</th>\n",
       "    </tr>\n",
       "  </thead>\n",
       "  <tbody>\n",
       "    <tr>\n",
       "      <th>0</th>\n",
       "      <td>: Jordan Bardella parle beaucoup de JP. Delevo...</td>\n",
       "      <td>[jordan, bardel, parl, beaucoup, jp, delevoy, ...</td>\n",
       "      <td>1.0</td>\n",
       "    </tr>\n",
       "    <tr>\n",
       "      <th>1</th>\n",
       "      <td>: Pour Sandra Rigot, Maîtresse de conférences ...</td>\n",
       "      <td>[sandr, rigot, maîtress, conférent, économ, ré...</td>\n",
       "      <td>1.0</td>\n",
       "    </tr>\n",
       "    <tr>\n",
       "      <th>2</th>\n",
       "      <td>: Réforme des retraites : la Macronie à son hy...</td>\n",
       "      <td>[réform, retrait, macron, hymn, écout, don, ``...</td>\n",
       "      <td>0.0</td>\n",
       "    </tr>\n",
       "    <tr>\n",
       "      <th>3</th>\n",
       "      <td>: DIRECT. Grève contre la réforme des retraite...</td>\n",
       "      <td>[direct, grev, contr, réform, retrait, ``, cha...</td>\n",
       "      <td>0.0</td>\n",
       "    </tr>\n",
       "    <tr>\n",
       "      <th>4</th>\n",
       "      <td>: Grève contre la réforme des retraites : les ...</td>\n",
       "      <td>[grev, contr, réform, retrait, transport, enco...</td>\n",
       "      <td>0.0</td>\n",
       "    </tr>\n",
       "  </tbody>\n",
       "</table>\n",
       "</div>"
      ],
      "text/plain": [
       "                                           sentences  \\\n",
       "0  : Jordan Bardella parle beaucoup de JP. Delevo...   \n",
       "1  : Pour Sandra Rigot, Maîtresse de conférences ...   \n",
       "2  : Réforme des retraites : la Macronie à son hy...   \n",
       "3  : DIRECT. Grève contre la réforme des retraite...   \n",
       "4  : Grève contre la réforme des retraites : les ...   \n",
       "\n",
       "                                               words  label  \n",
       "0  [jordan, bardel, parl, beaucoup, jp, delevoy, ...    1.0  \n",
       "1  [sandr, rigot, maîtress, conférent, économ, ré...    1.0  \n",
       "2  [réform, retrait, macron, hymn, écout, don, ``...    0.0  \n",
       "3  [direct, grev, contr, réform, retrait, ``, cha...    0.0  \n",
       "4  [grev, contr, réform, retrait, transport, enco...    0.0  "
      ]
     },
     "execution_count": 152,
     "metadata": {},
     "output_type": "execute_result"
    }
   ],
   "source": [
    "df = df.select(\"sentences\",\"wordSentences\",\"label\").withColumn(\"words\",F.split(F.col(\"wordSentences\"),' '))\n",
    "df = df.select(\"sentences\",\"words\",\"label\")\n",
    "df.toPandas().head(5)"
   ]
  },
  {
   "cell_type": "code",
   "execution_count": 153,
   "metadata": {},
   "outputs": [
    {
     "name": "stdout",
     "output_type": "stream",
     "text": [
      "+--------------------+--------------------+-----+--------------------+--------------------+\n",
      "|           sentences|               words|label|         rawFeatures|            features|\n",
      "+--------------------+--------------------+-----+--------------------+--------------------+\n",
      "|: Jordan Bardella...|[jordan, bardel, ...|  1.0|(262144,[12478,40...|(262144,[12478,40...|\n",
      "|: Pour Sandra Rig...|[sandr, rigot, ma...|  1.0|(262144,[50339,54...|(262144,[50339,54...|\n",
      "|: Réforme des ret...|[réform, retrait,...|  0.0|(262144,[27160,13...|(262144,[27160,13...|\n",
      "|: DIRECT. Grève c...|[direct, grev, co...|  0.0|(262144,[2685,806...|(262144,[2685,806...|\n",
      "|: Grève contre la...|[grev, contr, réf...|  0.0|(262144,[50826,66...|(262144,[50826,66...|\n",
      "|: Le journal de q...|[journal, démont,...|  0.0|(262144,[49759,16...|(262144,[49759,16...|\n",
      "|: Edouard Philipp...|[edouard, philipp...|  0.0|(262144,[28460,67...|(262144,[28460,67...|\n",
      "|\" Mardi, sortez !...|[``, mard, sort, ...|  0.0|(262144,[64353,13...|(262144,[64353,13...|\n",
      "|Les profs veulent...|[prof, veulent, m...|  1.0|(262144,[124654,1...|(262144,[124654,1...|\n",
      "|Réforme des retra...|[réform, retrait,...|  1.0|(262144,[26651,15...|(262144,[26651,15...|\n",
      "|: \"Au moment que ...|[``, moment, jug,...|  0.0|(262144,[28019,28...|(262144,[28019,28...|\n",
      "|Les annonces du p...|[annonc, premi, m...|  0.0|(262144,[5835,645...|(262144,[5835,645...|\n",
      "|Dans la continuit...|[continu, mobilis...|  0.0|(262144,[36688,64...|(262144,[36688,64...|\n",
      "|Vous vous questio...|[question, réform...|  0.0|(262144,[7024,224...|(262144,[7024,224...|\n",
      "|: (Plus je regard...|[plus, regard, pl...|  1.0|(262144,[63592,88...|(262144,[63592,88...|\n",
      "|: : Brillant, mai...|[brill, total, ma...|  1.0|(262144,[41181,58...|(262144,[41181,58...|\n",
      "|: Parfaite démons...|[parfait, démonst...|  1.0|(262144,[42334,58...|(262144,[42334,58...|\n",
      "|: N'oublions pas....|[n'oublion, depui...|  1.0|(262144,[12346,75...|(262144,[12346,75...|\n",
      "|La réforme des re...|[réform, retrait,...|  0.0|(262144,[12346,65...|(262144,[12346,65...|\n",
      "|: Réforme des ret...|[réform, retrait,...|  0.0|(262144,[26651,15...|(262144,[26651,15...|\n",
      "+--------------------+--------------------+-----+--------------------+--------------------+\n",
      "only showing top 20 rows\n",
      "\n"
     ]
    }
   ],
   "source": [
    "tf = feat.HashingTF(inputCol=\"words\", outputCol=\"rawFeatures\")\n",
    "idf = feat.IDF(inputCol=\"rawFeatures\",outputCol=\"features\")\n",
    "pipelineTFIDF = Pipeline(stages=[tf,idf])\n",
    "pipelineFit = pipelineTFIDF.fit(df)\n",
    "df = pipelineFit.transform(df)\n",
    "\n",
    "df.show()\n"
   ]
  },
  {
   "cell_type": "code",
   "execution_count": 154,
   "metadata": {},
   "outputs": [],
   "source": [
    "from pyspark.ml.classification import LogisticRegression\n",
    "logreg = LogisticRegression()"
   ]
  },
  {
   "cell_type": "code",
   "execution_count": 155,
   "metadata": {},
   "outputs": [],
   "source": [
    "logregModel = logreg.fit(df)"
   ]
  },
  {
   "cell_type": "code",
   "execution_count": 156,
   "metadata": {},
   "outputs": [],
   "source": [
    "#logregModel.save('model_nlp')"
   ]
  },
  {
   "cell_type": "code",
   "execution_count": null,
   "metadata": {},
   "outputs": [],
   "source": []
  }
 ],
 "metadata": {
  "kernelspec": {
   "display_name": "Python 3",
   "language": "python",
   "name": "python3"
  },
  "language_info": {
   "codemirror_mode": {
    "name": "ipython",
    "version": 3
   },
   "file_extension": ".py",
   "mimetype": "text/x-python",
   "name": "python",
   "nbconvert_exporter": "python",
   "pygments_lexer": "ipython3",
   "version": "3.6.5"
  }
 },
 "nbformat": 4,
 "nbformat_minor": 2
}
